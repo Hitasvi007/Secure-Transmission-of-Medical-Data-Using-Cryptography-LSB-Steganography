{
 "cells": [
  {
   "cell_type": "markdown",
   "metadata": {
    "id": "l91T3H8m3zQz"
   },
   "source": [
    " Title: **Secure Transmission of Medical Data Using Cryptography & LSB Steganography**"
   ]
  },
  {
   "cell_type": "code",
   "execution_count": null,
   "metadata": {
    "colab": {
     "base_uri": "https://localhost:8080/"
    },
    "id": "YG0OmkFY2TRK",
    "outputId": "1b37eabd-80d7-4b77-c3cd-7b979aa14c6e"
   },
   "outputs": [
    {
     "name": "stdout",
     "output_type": "stream",
     "text": [
      "Collecting pycryptodome\n",
      "  Downloading pycryptodome-3.19.0-cp35-abi3-manylinux_2_17_x86_64.manylinux2014_x86_64.whl (2.1 MB)\n",
      "\u001b[2K     \u001b[90m━━━━━━━━━━━━━━━━━━━━━━━━━━━━━━━━━━━━━━━━\u001b[0m \u001b[32m2.1/2.1 MB\u001b[0m \u001b[31m20.3 MB/s\u001b[0m eta \u001b[36m0:00:00\u001b[0m\n",
      "\u001b[?25hInstalling collected packages: pycryptodome\n",
      "Successfully installed pycryptodome-3.19.0\n"
     ]
    }
   ],
   "source": [
    "!pip install pycryptodome"
   ]
  },
  {
   "cell_type": "code",
   "execution_count": null,
   "metadata": {
    "colab": {
     "base_uri": "https://localhost:8080/"
    },
    "id": "cf05R7a32Y69",
    "outputId": "1624b4c3-0ff3-4d31-a9b1-89e2f11c7b3e"
   },
   "outputs": [
    {
     "name": "stdout",
     "output_type": "stream",
     "text": [
      "Requirement already satisfied: cryptography in /usr/local/lib/python3.10/dist-packages (41.0.5)\n",
      "Requirement already satisfied: cffi>=1.12 in /usr/local/lib/python3.10/dist-packages (from cryptography) (1.16.0)\n",
      "Requirement already satisfied: pycparser in /usr/local/lib/python3.10/dist-packages (from cffi>=1.12->cryptography) (2.21)\n"
     ]
    }
   ],
   "source": [
    "!pip install cryptography"
   ]
  },
  {
   "cell_type": "code",
   "execution_count": null,
   "metadata": {
    "id": "TbBoMsDZ2bMS"
   },
   "outputs": [],
   "source": [
    "from hashlib import sha256\n",
    "import base64\n",
    "from Crypto import Random\n",
    "from Crypto.Cipher import AES\n",
    "import pandas as pd\n",
    "from cryptography.hazmat.backends import default_backend\n",
    "from cryptography.hazmat.primitives.asymmetric import rsa\n",
    "from cryptography.hazmat.primitives import serialization\n",
    "from cryptography.hazmat.primitives.serialization import load_pem_private_key\n",
    "from cryptography.hazmat.primitives.serialization import load_pem_public_key\n",
    "from cryptography.hazmat.primitives.asymmetric import rsa\n",
    "from cryptography.hazmat.primitives.asymmetric import padding\n",
    "from cryptography.exceptions import InvalidSignature\n",
    "from cryptography.hazmat.primitives import serialization, hashes"
   ]
  },
  {
   "cell_type": "code",
   "execution_count": null,
   "metadata": {
    "colab": {
     "base_uri": "https://localhost:8080/"
    },
    "id": "fjEwVqko2dry",
    "outputId": "9d7bf18e-282c-4fb4-f560-8b308b459174"
   },
   "outputs": [
    {
     "name": "stdout",
     "output_type": "stream",
     "text": [
      "Collecting stepic\n",
      "  Downloading stepic-0.5.0.tar.gz (219 kB)\n",
      "\u001b[?25l     \u001b[90m━━━━━━━━━━━━━━━━━━━━━━━━━━━━━━━━━━━━━━━━\u001b[0m \u001b[32m0.0/219.2 kB\u001b[0m \u001b[31m?\u001b[0m eta \u001b[36m-:--:--\u001b[0m\r\u001b[2K     \u001b[91m━━━━━━━━━━━━━━━━\u001b[0m\u001b[91m╸\u001b[0m\u001b[90m━━━━━━━━━━━━━━━━━━━━━━━\u001b[0m \u001b[32m92.2/219.2 kB\u001b[0m \u001b[31m2.8 MB/s\u001b[0m eta \u001b[36m0:00:01\u001b[0m\r\u001b[2K     \u001b[90m━━━━━━━━━━━━━━━━━━━━━━━━━━━━━━━━━━━━━━━━\u001b[0m \u001b[32m219.2/219.2 kB\u001b[0m \u001b[31m4.2 MB/s\u001b[0m eta \u001b[36m0:00:00\u001b[0m\n",
      "\u001b[?25h  Preparing metadata (setup.py) ... \u001b[?25l\u001b[?25hdone\n",
      "Requirement already satisfied: pillow in /usr/local/lib/python3.10/dist-packages (from stepic) (9.4.0)\n",
      "Building wheels for collected packages: stepic\n",
      "  Building wheel for stepic (setup.py) ... \u001b[?25l\u001b[?25hdone\n",
      "  Created wheel for stepic: filename=stepic-0.5.0-py3-none-any.whl size=12413 sha256=97929fc484fe707b2aabe7aba36db0967ba91e5971859fe5a9a829bace3778fa\n",
      "  Stored in directory: /root/.cache/pip/wheels/0d/e7/18/500b3012b875d302152506f79d026ea3e66c873f7669462d7b\n",
      "Successfully built stepic\n",
      "Installing collected packages: stepic\n",
      "Successfully installed stepic-0.5.0\n"
     ]
    }
   ],
   "source": [
    "!pip install stepic"
   ]
  },
  {
   "cell_type": "markdown",
   "metadata": {
    "id": "HsT1Ujie4coY"
   },
   "source": [
    "Key Generation"
   ]
  },
  {
   "cell_type": "code",
   "execution_count": null,
   "metadata": {
    "colab": {
     "base_uri": "https://localhost:8080/"
    },
    "id": "ryHsVMGL2gaA",
    "outputId": "6b7e1077-875b-4a74-8d4c-7000dddf2dfe"
   },
   "outputs": [
    {
     "name": "stdout",
     "output_type": "stream",
     "text": [
      "private key and public key generated.\n"
     ]
    }
   ],
   "source": [
    "def gen_key():\n",
    "    private_key = rsa.generate_private_key(\n",
    "        public_exponent=65537, key_size=2048, backend=default_backend())\n",
    "\n",
    "    public_key = private_key.public_key()\n",
    "    return private_key, public_key\n",
    "\n",
    "\n",
    "def save_pvkey(pk, filename):\n",
    "    pem = pk.private_bytes(\n",
    "        encoding=serialization.Encoding.PEM,\n",
    "        format=serialization.PrivateFormat.TraditionalOpenSSL,\n",
    "        encryption_algorithm=serialization.NoEncryption()\n",
    "    )\n",
    "    with open(filename, 'wb') as pem_out:\n",
    "        pem_out.write(pem)\n",
    "\n",
    "def save_pukey(pk, filename):\n",
    "    pem = public_key.public_bytes(\n",
    "    encoding=serialization.Encoding.PEM,\n",
    "    format=serialization.PublicFormat.SubjectPublicKeyInfo\n",
    "    )\n",
    "    with open(filename, 'wb') as pem_out:\n",
    "        pem_out.write(pem)\n",
    "\n",
    "private_key, public_key = gen_key()\n",
    "\n",
    "save_pvkey(private_key, 'private_key')\n",
    "save_pukey(public_key, 'public_key')\n",
    "print(\"private key and public key generated.\")"
   ]
  },
  {
   "cell_type": "code",
   "execution_count": null,
   "metadata": {
    "id": "buSEuOMA2i-A"
   },
   "outputs": [],
   "source": [
    "from hashlib import sha256\n",
    "import base64\n",
    "from Crypto import Random\n",
    "from Crypto.Cipher import AES\n",
    "import pandas as pd\n",
    "from cryptography.hazmat.primitives.serialization import load_pem_private_key\n",
    "from cryptography.hazmat.primitives.serialization import load_pem_public_key\n",
    "from cryptography.hazmat.backends import default_backend\n",
    "from cryptography.hazmat.primitives.asymmetric import rsa\n",
    "from cryptography.exceptions import InvalidSignature\n",
    "from cryptography.hazmat.primitives import serialization, hashes\n",
    "from cryptography.hazmat.primitives.asymmetric import padding\n",
    "from PIL import Image\n",
    "import stepic"
   ]
  },
  {
   "cell_type": "markdown",
   "metadata": {
    "id": "o96QEhEy4mfd"
   },
   "source": [
    "DNA Crypto"
   ]
  },
  {
   "cell_type": "code",
   "execution_count": null,
   "metadata": {
    "colab": {
     "base_uri": "https://localhost:8080/"
    },
    "id": "p4EeFI6q4joI",
    "outputId": "b64409c0-7aa8-479c-b431-f98bea48f0cd"
   },
   "outputs": [
    {
     "name": "stdout",
     "output_type": "stream",
     "text": [
      "Please enter your message: Name : Smit Thakore, Gender : Male, Birthdate : 5.9.2003, SSN : 15657834939, Medical History : Diabetes, Diagnosis : broken arm\n",
      "TCTCGATCCGGCACCGCTACCACGTCCATGTTCACCTTCCGCCGAAAGGGATCAGGCTCGACCTTTGGCTCTTTGGGCTCAACCGCTACCTCCCGATGCGGCTCGACCCCAATGTCATTCCGCTTGCGATTCGGCACCGCTACCAGAGATGCGGATATAACTACTGCATCGACCACGACGTCTACCGCTACCTAGAGATTAAGAACAAGGGCAGAGGCGGCAGCGTCGACCTCCGGCTTGATGGTTCGATGCACCCGCATGACGTTCGGATCAAAAACCGCTACCTTGATGCGACCAGGCTTCGGCACGTCGACCTTGATGCGATTTTCTGGAACGATGACGACCGCTACCCCATCAGGAAAGGGCTCTACCCGATCATCC\n"
     ]
    }
   ],
   "source": [
    "DNA_data = { \"words\":[\"A\",\"B\",\"C\",\"D\",\"E\",\"F\",\"G\",\"H\",\"I\",\"J\",\"K\",\"L\",\"M\",\"N\",\"O\",\"P\",\"Q\",\"R\",\"S\",\"T\",\"U\",\"V\",\"W\",\n",
    "                   \"X\",\"Y\",\"Z\",\" \",\",\",\".\",\":\",\"0\",\"1\",\"2\",\"3\",\"4\",\"5\",\"6\",\"7\",\"8\",\"9\"],\n",
    "            \"DNA_code\": [\"CGA\",\"CCA\",\"GTT\",\"TTG\",\"GGC\",\"GGT\",\"TTT\",\"CGC\",\"ATG\",\"AGT\",\"AAG\",\"TGC\",\"TCC\",\"TCT\",\"GGA\",\"GTG\",\n",
    "                         \"AAC\",\"TCA\",\"ACG\",\"TTC\",\"CTG\",\"CCT\",\"CCG\",\"CTA\",\"AAA\",\"CTT\",\"ACC\",\"TCG\",\"GAT\",\"GCT\",\"ACT\",\"TAG\",\n",
    "                         \"ATA\",\"GCA\",\"GAG\",\"AGA\",\"TTA\",\"ACA\",\"AGG\",\"GCG\"]\n",
    "           }\n",
    "\n",
    "DNA_df = pd.DataFrame.from_dict(DNA_data)\n",
    "#print(DNA_df)\n",
    "\n",
    "message = input(\"Please enter your message: \")\n",
    "#Name : Smit Thakore, Gender : Male, Birthdate : 5.9.2003, SSN : 15657834939, Medical History : Diabetes, Diagnosis : broken arm\n",
    "DNA_crypto_message = \"\"\n",
    "word = message.upper()\n",
    "\n",
    "\n",
    "for i in word:\n",
    "    DNA_crypto_message+= str(DNA_df.loc[ DNA_df['words'] == i , 'DNA_code' ].iloc[0])\n",
    "\n",
    "print(DNA_crypto_message)"
   ]
  },
  {
   "cell_type": "code",
   "execution_count": null,
   "metadata": {
    "colab": {
     "base_uri": "https://localhost:8080/",
     "height": 70
    },
    "id": "LiezPzahyWFr",
    "outputId": "2a710c10-403b-457e-baf7-223d815b2daf"
   },
   "outputs": [
    {
     "data": {
      "application/vnd.google.colaboratory.intrinsic+json": {
       "type": "string"
      },
      "text/plain": [
       "'TCTCGATCCGGCACCGCTACCACGTCCATGTTCACCTTCCGCCGAAAGGGATCAGGCTCGACCTTTGGCTCTTTGGGCTCAACCGCTACCTCCCGATGCGGCTCGACCCCAATGTCATTCCGCTTGCGATTCGGCACCGCTACCAGAGATGCGGATATAACTACTGCATCGACCACGACGTCTACCGCTACCTAGAGATTAAGAACAAGGGCAGAGGCGGCAGCGTCGACCTCCGGCTTGATGGTTCGATGCACCCGCATGACGTTCGGATCAAAAACCGCTACCTTGATGCGACCAGGCTTCGGCACGTCGACCTTGATGCGATTTTCTGGAACGATGACGACCGCTACCCCATCAGGAAAGGGCTCTACCCGATCATCC'"
      ]
     },
     "execution_count": 9,
     "metadata": {},
     "output_type": "execute_result"
    }
   ],
   "source": [
    "DNA_crypto_message"
   ]
  },
  {
   "cell_type": "markdown",
   "metadata": {
    "id": "GpPEr-Xq4u2s"
   },
   "source": [
    "AES Crypto"
   ]
  },
  {
   "cell_type": "code",
   "execution_count": null,
   "metadata": {
    "colab": {
     "base_uri": "https://localhost:8080/"
    },
    "id": "q1TFhiIc2lOH",
    "outputId": "f80bb493-e126-4b6c-d86b-0611d5c9f2f4"
   },
   "outputs": [
    {
     "name": "stdout",
     "output_type": "stream",
     "text": [
      "b't1I/nDXZv2xW7IIkhIvmL3BFNd2ug5p+L0Ccy9XY1AzPiYCA67tseVGd9kTAUMLrRyoqmdGID33pU698Q2YqZVSWM3y+7cM8ADSjUiz90Ef5BJszHh+I6I/HVqkfwJOJNccCyPsZwI4+gO8j+CKjODeiXP5aLCZGXRRwJotot2YhQVoby5wjMhxMXRVDc6H0zmUrg8SNT9J5RYFBFLn+REo4KEA1xBC4Oc2OjVVNs6wJUFwvH4aR/2Mhl58ZokCIegpjVMmFz80OG2kCDHr58Qei3R/slyGDeZkf6xxA9XBKxF/Fb8CfT9Vc/kGIZRwWFvCBbnRdDTGnEsm2jMypbnqNdG2xlV2cF3GH8fjZWntf/PXVuFeP/CAZgNqImUhOyxir12yw6aDEmCYO9NWXnij101ca+8TULyImTnCFxbrxg+vAVY+RyfZTFbCyafs/m4sg6NLbd3+nFoLGszo+z3Yq6ZzfUE2MIBmIHGlyyFM7Bh0YZTlav1ZnllRYq3DBQIk+0vs+Ez+3j8AgSN9a5g=='\n"
     ]
    }
   ],
   "source": [
    "#block size =16\n",
    "#AES-128\n",
    "BS = 16\n",
    "pad = lambda s: bytes(s + (BS - len(s) % BS) * chr(BS - len(s) % BS), 'utf-8')\n",
    "class AESCipher:\n",
    "    def __init__( self, key ):\n",
    "        self.key = bytes(key, 'utf-8')\n",
    "    def encrypt( self, raw ):\n",
    "        raw = pad(raw)\n",
    "        iv = Random.new().read( AES.block_size )\n",
    "        cipher = AES.new(self.key, AES.MODE_CBC, iv )\n",
    "        return base64.b64encode( iv + cipher.encrypt( raw ) )\n",
    "cipher = AESCipher('LKHlhb899Y09olUi')\n",
    "AES_encrypted_message = cipher.encrypt(DNA_crypto_message)\n",
    "\n",
    "print(AES_encrypted_message)"
   ]
  },
  {
   "cell_type": "markdown",
   "metadata": {
    "id": "EW0LQEiG4zBt"
   },
   "source": [
    "Digital Signature"
   ]
  },
  {
   "cell_type": "code",
   "execution_count": null,
   "metadata": {
    "colab": {
     "base_uri": "https://localhost:8080/"
    },
    "id": "b2sxywO32oGY",
    "outputId": "73c173f6-93fb-4c5e-f8fa-2dfb6c21e2f6"
   },
   "outputs": [
    {
     "name": "stdout",
     "output_type": "stream",
     "text": [
      "b\"<\\xb4\\xab\\x85!\\xc3\\xab\\x05\\xb0\\x03PCsO(\\x08\\xc89g_}\\x94W|\\x1a\\x8e\\xe8{LH\\x07\\xde\\xbe\\x16!c\\xfb)\\x87\\xf3}\\xacH> \\x94\\x93\\x95,x\\x90p\\xef\\xf8\\xbfn\\xa2\\xf3\\xe3\\x01+\\xab\\x0f\\xeeX\\xfe\\xa8\\xd3\\x933\\x9foE\\x9fBZ\\x1e\\x9a\\x13X7\\x91\\x9eJ\\x13\\x9eF\\xa22\\xd9 \\x1e\\xb2\\x96\\x06\\x9fZ\\x18\\x0e1\\n\\x02\\x1f9\\x81Y\\x08$w\\x85P\\x00\\xe4v\\xf1;\\x93\\xd3\\xc8|\\x12r\\xa2\\xf8\\x13\\x9fV$\\x03Y3\\xa3\\xcc\\xa8TL{e\\x9f\\xee\\xd3\\xafc\\xd1\\xd8\\xb9C1%\\xdd\\xeal\\xb0\\xd0\\x89\\xded\\x84\\xd6\\x1e'\\xa4\\x81'\\x81\\x16|t\\xa8\\xa2q<\\xccZ\\x833\\xa2\\x86\\x85\\xe7\\x97^&|\\xe0\\x90 @\\xc4\\xb9\\xa5\\x1f: 8\\xe98QJ\\xd0\\xc0\\x17.]\\x04\\x1a\\xf0\\xbaU\\xce\\x88*\\xd6\\x0f\\x08\\x115}\\x19\\x93n\\x95q\\x9c!\\x10\\xfb\\xf0jv\\x1f\\xec\\xc2\\x0b\\xe8Y\\xcaJ\\x86\\x12\\xc2A\\xdd~i\\xd8\\xca\\xf7\\x85>\\x8d|\\x7f6~\\xfb\"\n"
     ]
    }
   ],
   "source": [
    "def load_pvkey(filename):\n",
    "    with open(filename, 'rb') as pem_in:\n",
    "        pemlines = pem_in.read()\n",
    "\n",
    "    private_key = load_pem_private_key(pemlines, None, default_backend())\n",
    "    return private_key\n",
    "\n",
    "message = AES_encrypted_message\n",
    "private_key = load_pvkey(\"private_key\")\n",
    "signature = private_key.sign(message, padding.PSS(mgf=padding.MGF1(hashes.SHA256()),\n",
    "                                                  salt_length=padding.PSS.MAX_LENGTH),hashes.SHA256())\n",
    "print(signature)"
   ]
  },
  {
   "cell_type": "code",
   "execution_count": null,
   "metadata": {
    "id": "aHx2T56w4Ny7"
   },
   "outputs": [],
   "source": [
    "secret_msg = AES_encrypted_message + bytes(\"SIGNATURE\", 'utf-8') + signature"
   ]
  },
  {
   "cell_type": "markdown",
   "metadata": {
    "id": "pDKXZynI441l"
   },
   "source": [
    "*Steganography*"
   ]
  },
  {
   "cell_type": "markdown",
   "metadata": {
    "id": "9uszAIRQZWS9"
   },
   "source": [
    "Image Steganography is the technique of hiding data(including text, image, audio, video) inside an image in such a way that a human being generally won’t be able to distinguish between the manipulated image and the original image. This adds an extra layer of security to the data being transmitted."
   ]
  },
  {
   "cell_type": "code",
   "execution_count": null,
   "metadata": {
    "id": "AiSASJcD4QA2"
   },
   "outputs": [],
   "source": [
    "# https://domnit.org/blog/2007/02/stepic.html\n",
    "\n",
    "im = Image.open('Fracture.jpg')\n",
    "im1 = stepic.encode(im, secret_msg)\n",
    "im1.save('encoded_image.png', 'PNG')"
   ]
  },
  {
   "cell_type": "markdown",
   "metadata": {
    "id": "-HDeUDazXons"
   },
   "source": [
    "Peak signal-to-noise ratio (PSNR) is the ratio between the maximum possible power of an image and the power of corrupting noise that affects the quality of its representation. To estimate the PSNR of an image, it is necessary to compare that image to an ideal clean image with the maximum possible power.\n",
    "PSNR is most commonly used to estimate the efficiency of compressors, filters, etc. The larger the value of PSNR, the more efficient is a corresponding compression or filter method.\n",
    "\n"
   ]
  },
  {
   "cell_type": "code",
   "execution_count": null,
   "metadata": {
    "colab": {
     "base_uri": "https://localhost:8080/"
    },
    "id": "t-k3Grv84SDj",
    "outputId": "1d40e4c4-8ffb-46b9-e0aa-c23d298961ac"
   },
   "outputs": [
    {
     "name": "stdout",
     "output_type": "stream",
     "text": [
      "PSNR value:  71.96339736704624 dB\n"
     ]
    }
   ],
   "source": [
    "import cv2\n",
    "import numpy as np\n",
    "from math import log10,sqrt\n",
    "def PSNR(original, steg):\n",
    "    mse = np.mean((original - steg) ** 2)\n",
    "    if(mse == 0):\n",
    "        return 100\n",
    "    max_pixel = 255.0\n",
    "    psnr = 20 * log10(max_pixel / sqrt(mse))\n",
    "    return psnr\n",
    "\n",
    "original=cv2.imread(\"Fracture.jpg\")\n",
    "steg=cv2.imread(\"encoded_image.png\")\n",
    "value = PSNR(original,steg)\n",
    "\n",
    "print(f\"PSNR value:  {value} dB\")"
   ]
  },
  {
   "cell_type": "code",
   "execution_count": null,
   "metadata": {
    "id": "x4HIDSOlyIYi"
   },
   "outputs": [],
   "source": []
  },
  {
   "cell_type": "markdown",
   "metadata": {
    "id": "owkSx5cCEhW2"
   },
   "source": [
    "**Decryption End**"
   ]
  },
  {
   "cell_type": "code",
   "execution_count": null,
   "metadata": {
    "id": "kEJ-jvZi7X14"
   },
   "outputs": [],
   "source": [
    "from hashlib import sha256\n",
    "import base64\n",
    "from Crypto import Random\n",
    "from Crypto.Cipher import AES\n",
    "import pandas as pd\n",
    "from cryptography.hazmat.primitives.serialization import load_pem_private_key\n",
    "from cryptography.hazmat.primitives.serialization import load_pem_public_key\n",
    "from cryptography.hazmat.backends import default_backend\n",
    "from cryptography.hazmat.primitives.asymmetric import rsa\n",
    "from cryptography.exceptions import InvalidSignature\n",
    "from cryptography.hazmat.primitives import serialization, hashes\n",
    "from cryptography.hazmat.primitives.asymmetric import padding\n",
    "from PIL import Image\n",
    "import stepic"
   ]
  },
  {
   "cell_type": "code",
   "execution_count": null,
   "metadata": {
    "id": "9rCF7cBM7ft-"
   },
   "outputs": [],
   "source": [
    "im = Image.open('encoded_image.png')\n",
    "stegoImage = stepic.decode(im)\n",
    "\n",
    "ind_sep = stegoImage.find('SIGNATURE')\n",
    "message = bytes(stegoImage[:ind_sep],'utf-8')\n",
    "signature = bytes(stegoImage[ind_sep+9:], 'latin1')"
   ]
  },
  {
   "cell_type": "code",
   "execution_count": null,
   "metadata": {
    "colab": {
     "base_uri": "https://localhost:8080/"
    },
    "id": "EpcQ9KBV7jjX",
    "outputId": "ec5dbcc4-2af0-4b3b-a7ee-34947f63ba37"
   },
   "outputs": [
    {
     "name": "stdout",
     "output_type": "stream",
     "text": [
      "b't1I/nDXZv2xW7IIkhIvmL3BFNd2ug5p+L0Ccy9XY1AzPiYCA67tseVGd9kTAUMLrRyoqmdGID33pU698Q2YqZVSWM3y+7cM8ADSjUiz90Ef5BJszHh+I6I/HVqkfwJOJNccCyPsZwI4+gO8j+CKjODeiXP5aLCZGXRRwJotot2YhQVoby5wjMhxMXRVDc6H0zmUrg8SNT9J5RYFBFLn+REo4KEA1xBC4Oc2OjVVNs6wJUFwvH4aR/2Mhl58ZokCIegpjVMmFz80OG2kCDHr58Qei3R/slyGDeZkf6xxA9XBKxF/Fb8CfT9Vc/kGIZRwWFvCBbnRdDTGnEsm2jMypbnqNdG2xlV2cF3GH8fjZWntf/PXVuFeP/CAZgNqImUhOyxir12yw6aDEmCYO9NWXnij101ca+8TULyImTnCFxbrxg+vAVY+RyfZTFbCyafs/m4sg6NLbd3+nFoLGszo+z3Yq6ZzfUE2MIBmIHGlyyFM7Bh0YZTlav1ZnllRYq3DBQIk+0vs+Ez+3j8AgSN9a5g=='\n"
     ]
    }
   ],
   "source": [
    "def load_pukey(filename):\n",
    "    with open(filename, 'rb') as pem_in:\n",
    "        pemlines = pem_in.read()\n",
    "    public_key = load_pem_public_key(pemlines, default_backend())\n",
    "    return public_key\n",
    "\n",
    "public_key = load_pukey(\"public_key\")\n",
    "try:\n",
    "    public_key.verify(signature, message, padding.PSS(mgf=padding.MGF1(hashes.SHA256()),\n",
    "                                                  salt_length=padding.PSS.MAX_LENGTH),hashes.SHA256())\n",
    "    print(message)\n",
    "except InvalidSignature:\n",
    "    print('Invalid!')"
   ]
  },
  {
   "cell_type": "code",
   "execution_count": null,
   "metadata": {
    "colab": {
     "base_uri": "https://localhost:8080/"
    },
    "id": "x4dF287eDWyC",
    "outputId": "017cbd4b-dcf2-4e6e-d463-f4326c94b7ec"
   },
   "outputs": [
    {
     "name": "stdout",
     "output_type": "stream",
     "text": [
      "TCTCGATCCGGCACCGCTACCACGTCCATGTTCACCTTCCGCCGAAAGGGATCAGGCTCGACCTTTGGCTCTTTGGGCTCAACCGCTACCTCCCGATGCGGCTCGACCCCAATGTCATTCCGCTTGCGATTCGGCACCGCTACCAGAGATGCGGATATAACTACTGCATCGACCACGACGTCTACCGCTACCTAGAGATTAAGAACAAGGGCAGAGGCGGCAGCGTCGACCTCCGGCTTGATGGTTCGATGCACCCGCATGACGTTCGGATCAAAAACCGCTACCTTGATGCGACCAGGCTTCGGCACGTCGACCTTGATGCGATTTTCTGGAACGATGACGACCGCTACCCCATCAGGAAAGGGCTCTACCCGATCATCC\n"
     ]
    }
   ],
   "source": [
    "BS = 16\n",
    "unpad = lambda s : s[0:-ord(s[-1:])]\n",
    "\n",
    "class AESCipher:\n",
    "\n",
    "    def __init__( self, key ):\n",
    "        self.key = bytes(key, 'utf-8')\n",
    "\n",
    "    def decrypt( self, enc ):\n",
    "        enc = base64.b64decode(enc)\n",
    "        iv = enc[:16]\n",
    "        cipher = AES.new(self.key, AES.MODE_CBC, iv )\n",
    "        return unpad(cipher.decrypt( enc[16:] )).decode('utf8')\n",
    "\n",
    "cipher = AESCipher('LKHlhb899Y09olUi')\n",
    "AES_decrypted = cipher.decrypt(message)\n",
    "\n",
    "print(AES_decrypted)"
   ]
  },
  {
   "cell_type": "code",
   "execution_count": null,
   "metadata": {
    "colab": {
     "base_uri": "https://localhost:8080/"
    },
    "id": "2ipMzNgLDZg-",
    "outputId": "8ed4a111-a2b7-4ea8-8b84-5066fc49386f"
   },
   "outputs": [
    {
     "name": "stdout",
     "output_type": "stream",
     "text": [
      "The secret message is:  name : smit thakore, gender : male, birthdate : 5.9.2003, ssn : 15657834939, medical history : diabetes, diagnosis : broken arm\n"
     ]
    }
   ],
   "source": [
    "DNA_data = { \"words\":[\"A\",\"B\",\"C\",\"D\",\"E\",\"F\",\"G\",\"H\",\"I\",\"J\",\"K\",\"L\",\"M\",\"N\",\"O\",\"P\",\"Q\",\"R\",\"S\",\"T\",\"U\",\"V\",\"W\",\n",
    "                   \"X\",\"Y\",\"Z\",\" \",\",\",\".\",\":\",\"0\",\"1\",\"2\",\"3\",\"4\",\"5\",\"6\",\"7\",\"8\",\"9\"],\n",
    "            \"DNA_code\": [\"CGA\",\"CCA\",\"GTT\",\"TTG\",\"GGC\",\"GGT\",\"TTT\",\"CGC\",\"ATG\",\"AGT\",\"AAG\",\"TGC\",\"TCC\",\"TCT\",\"GGA\",\"GTG\",\n",
    "                         \"AAC\",\"TCA\",\"ACG\",\"TTC\",\"CTG\",\"CCT\",\"CCG\",\"CTA\",\"AAA\",\"CTT\",\"ACC\",\"TCG\",\"GAT\",\"GCT\",\"ACT\",\"TAG\",\n",
    "                         \"ATA\",\"GCA\",\"GAG\",\"AGA\",\"TTA\",\"ACA\",\"AGG\",\"GCG\"]\n",
    "           }\n",
    "\n",
    "DNA_df = pd.DataFrame.from_dict(DNA_data)\n",
    "\n",
    "l = [AES_decrypted[i:i+3] for i in range(0, len(AES_decrypted), 3)]\n",
    "\n",
    "original_message = \"\"\n",
    "for i in l:\n",
    "    original_message+= str(DNA_df.loc[ DNA_df['DNA_code'] == i , 'words' ].iloc[0])\n",
    "print(\"The secret message is: \",original_message.lower())"
   ]
  }
 ],
 "metadata": {
  "colab": {
   "gpuType": "T4",
   "provenance": []
  },
  "kernelspec": {
   "display_name": "Python 3",
   "name": "python3"
  },
  "language_info": {
   "name": "python"
  }
 },
 "nbformat": 4,
 "nbformat_minor": 0
}
